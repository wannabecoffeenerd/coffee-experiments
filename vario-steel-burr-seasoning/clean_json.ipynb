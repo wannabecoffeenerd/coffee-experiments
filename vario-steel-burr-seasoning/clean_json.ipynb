{
 "cells": [
  {
   "cell_type": "code",
   "execution_count": 63,
   "metadata": {},
   "outputs": [],
   "source": [
    "import json\n",
    "\n",
    "with open('Beanconqueror.json', 'r') as f:\n",
    "    data = json.load(f)"
   ]
  },
  {
   "cell_type": "code",
   "execution_count": 64,
   "metadata": {},
   "outputs": [
    {
     "data": {
      "text/plain": [
       "dict_keys(['BEANS', 'BREWS', 'MILL', 'PREPARATION', 'SETTINGS', 'VERSION'])"
      ]
     },
     "execution_count": 64,
     "metadata": {},
     "output_type": "execute_result"
    }
   ],
   "source": [
    "data.keys()"
   ]
  },
  {
   "cell_type": "code",
   "execution_count": 65,
   "metadata": {},
   "outputs": [],
   "source": [
    "for bean in data['BEANS']:\n",
    "    if bean['name'] == \"SW Ethiopia Yirgacheffe Worka\":\n",
    "        bean_id = bean['config']['uuid']\n",
    "\n",
    "brews = []\n",
    "mills = {'d284c660-fc29-48fe-8688-3c4f2803d705': 'old', '5852fa65-bc9a-4cdc-a1f1-9a8558cee8da' : 'new'}\n",
    "elements = ['grind_size', 'grind_weight', 'mill', 'brew_temperature', 'brew_time', 'tds', 'brew_beverage_quantity', ]\n",
    "for brew in data['BREWS']:\n",
    "    if brew['bean'] == bean_id and brew['config']['unix_timestamp'] > 1622358000:\n",
    "        keys = list(brew.keys())\n",
    "        for k in keys:\n",
    "            if k not in elements:\n",
    "                brew.pop(k)\n",
    "            elif k == 'mill':\n",
    "                brew[k] = mills[brew[k]]\n",
    "        brews.append(brew)"
   ]
  },
  {
   "cell_type": "code",
   "execution_count": 66,
   "metadata": {},
   "outputs": [],
   "source": [
    "with open('vario_burr_seasoning.json', 'w') as f:\n",
    "    json.dump(brews, f)"
   ]
  },
  {
   "cell_type": "code",
   "execution_count": 67,
   "metadata": {},
   "outputs": [
    {
     "data": {
      "text/plain": [
       "dict_keys(['grind_size', 'grind_weight', 'mill', 'brew_temperature', 'brew_time', 'tds', 'brew_beverage_quantity'])"
      ]
     },
     "execution_count": 67,
     "metadata": {},
     "output_type": "execute_result"
    }
   ],
   "source": [
    "brews[0].keys()"
   ]
  },
  {
   "cell_type": "code",
   "execution_count": 68,
   "metadata": {},
   "outputs": [
    {
     "data": {
      "text/plain": [
       "{'d284c660-fc29-48fe-8688-3c4f2803d705': 'old',\n",
       " '5852fa65-bc9a-4cdc-a1f1-9a8558cee8da': 'new'}"
      ]
     },
     "execution_count": 68,
     "metadata": {},
     "output_type": "execute_result"
    }
   ],
   "source": [
    "mills"
   ]
  },
  {
   "cell_type": "code",
   "execution_count": 70,
   "metadata": {},
   "outputs": [
    {
     "data": {
      "text/plain": [
       "{'grind_size': '-1',\n",
       " 'grind_weight': 17.1,\n",
       " 'mill': 'old',\n",
       " 'brew_temperature': 96,\n",
       " 'brew_time': 35,\n",
       " 'tds': 9.52,\n",
       " 'brew_beverage_quantity': 36.6}"
      ]
     },
     "execution_count": 70,
     "metadata": {},
     "output_type": "execute_result"
    }
   ],
   "source": [
    "brews[0]"
   ]
  },
  {
   "cell_type": "code",
   "execution_count": null,
   "metadata": {},
   "outputs": [],
   "source": []
  }
 ],
 "metadata": {
  "kernelspec": {
   "display_name": "Python 3",
   "language": "python",
   "name": "python3"
  },
  "language_info": {
   "codemirror_mode": {
    "name": "ipython",
    "version": 3
   },
   "file_extension": ".py",
   "mimetype": "text/x-python",
   "name": "python",
   "nbconvert_exporter": "python",
   "pygments_lexer": "ipython3",
   "version": "3.8.5"
  }
 },
 "nbformat": 4,
 "nbformat_minor": 4
}
